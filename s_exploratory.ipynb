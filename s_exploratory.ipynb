{
 "cells": [
  {
   "cell_type": "code",
   "execution_count": 13,
   "metadata": {},
   "outputs": [
    {
     "name": "stdout",
     "output_type": "stream",
     "text": [
      "Host Shape: rows: 4816389 and columns: 29\n",
      "Summary Shape: rows: 2611 and columns: 33\n",
      "EvtWarn Shape: rows: 39992 and columns: 36\n",
      "RvBsm Shape: rows: 491 and columns: 18\n",
      "Spat Shape: rows: 19389 and columns: 11\n",
      "Headlamp: {0, 2, 3, -1}\n",
      "Wiper: {0, 1, 2, 3, -1}\n",
      "Turn Signal: {0, 1, 2, -1}\n",
      "Stability Control Status: {0, -1}\n",
      "Transition State: {0, 1, 2, 3, -1}\n",
      "Traction Control Status: {0, 1, -2, -7, -6, -4, -3, -1}\n",
      "Brake Status: {0, 1, -1}\n",
      "Speed: 1000.0\n",
      "Yaw Rate: 1000.0\n",
      "No. of -1s in Headlamp :  43317\n",
      "No. of -1s in Wiper :  43317\n",
      "No. of -1s in Turn Signal :  43317\n",
      "No. of -1s in Stability Control Status :  43317\n",
      "No. of <0s in Transition State :  43317\n",
      "No. of -1s in Headlamp :  43317\n",
      "No. of -1s in Headlamp :  43317\n",
      "No. of Speed at 1,000 :  43317\n",
      "No. of Yaw Rate at 1,000 :  43317\n",
      "No. of -1s in Headlamp :  0\n",
      "No. of -1s in Wiper :  0\n",
      "No. of -1s in Turn Signal :  0\n",
      "No. of -1s in Stability Control Status :  0\n",
      "No. of <0s in Transition State :  0\n",
      "No. of -1s in Headlamp :  0\n",
      "No. of -1s in Headlamp :  0\n",
      "No. of Speed at 1,000 :  0\n",
      "No. of Yaw Rate at 1,000 :  0\n"
     ]
    }
   ],
   "source": [
    "%run dataframe.ipynb"
   ]
  },
  {
   "cell_type": "code",
   "execution_count": 21,
   "metadata": {},
   "outputs": [],
   "source": [
    "import numpy as np\n",
    "import matplotlib.pyplot as plt\n",
    "import plotly.express as px\n",
    "import plotly.offline as py\n",
    "import seaborn as sns"
   ]
  },
  {
   "cell_type": "code",
   "execution_count": 26,
   "metadata": {},
   "outputs": [
    {
     "data": {
      "text/plain": [
       "Text(0.5, 0, 'headlamp')"
      ]
     },
     "execution_count": 26,
     "metadata": {},
     "output_type": "execute_result"
    },
    {
     "data": {
      "image/png": "[encoded data removed]",
      "text/plain": [
       "<Figure size 432x288 with 1 Axes>"
      ]
     },
     "metadata": {
      "needs_background": "light"
     },
     "output_type": "display_data"
    }
   ],
   "source": [
    "#bar plot for headlamps\n",
    "#plt.bar(x=df_host_shape['headlamp'], height=df_host_shape['headlamp'])\n",
    "#Education Level\n",
    "   \n",
    "# hl_bar = pd.DataFrame({'headlamp':df_host[\"headlamp\"].value_counts().index,\n",
    "#                           'counts':df_host[\"headlamp\"].value_counts().values}).sort_values(\"counts\")\n",
    "# fig = px.bar(hl_bar, x='headlamp', y='counts')\n",
    "# fig.update_traces(marker_color=\"blue\", marker_line_color='rgb(8,48,107)',\n",
    "#                  marker_line_width=1.5)\n",
    "# fig.update_layout(title_text='Education Level')\n",
    "# py.plot(fig, filename =\"Headlamp.html\")\n",
    "# fig.show()\n",
    "\n",
    "headlamp = sns.countplot(x=\"headlamp\",data=df_host)\n",
    "headlamp.set_xlabel(\"headlamp\")\n"
   ]
  }
 ],
 "metadata": {
  "interpreter": {
   "hash": "4e0b39fdc4f2df2992ef135d097972ec225e019845a073717c5b1bc8df292c8a"
  },
  "kernelspec": {
   "display_name": "Python 3.10.2 64-bit",
   "language": "python",
   "name": "python3"
  },
  "language_info": {
   "codemirror_mode": {
    "name": "ipython",
    "version": 3
   },
   "file_extension": ".py",
   "mimetype": "text/x-python",
   "name": "python",
   "nbconvert_exporter": "python",
   "pygments_lexer": "ipython3",
   "version": "3.10.2"
  },
  "orig_nbformat": 4
 },
 "nbformat": 4,
 "nbformat_minor": 2
}
