{
 "cells": [
  {
   "cell_type": "code",
   "execution_count": 1,
   "metadata": {},
   "outputs": [
    {
     "name": "stdout",
     "output_type": "stream",
     "text": [
      "Host Shape: rows: 4816389 and columns: 29\n",
      "Summary Shape: rows: 2611 and columns: 33\n",
      "EvtWarn Shape: rows: 39992 and columns: 36\n",
      "RvBsm Shape: rows: 491 and columns: 18\n",
      "Spat Shape: rows: 19389 and columns: 11\n",
      "Headlamp: {0, 2, 3, -1}\n",
      "Wiper: {0, 1, 2, 3, -1}\n",
      "Turn Signal: {0, 1, 2, -1}\n",
      "Stability Control Status: {0, -1}\n",
      "Transition State: {0, 1, 2, 3, -1}\n",
      "Traction Control Status: {0, 1, -2, -7, -6, -4, -3, -1}\n",
      "Brake Status: {0, 1, -1}\n",
      "Speed: 1000.0\n",
      "Yaw Rate: 1000.0\n",
      "No. of -1s in Headlamp :  43317\n",
      "No. of -1s in Wiper :  43317\n",
      "No. of -1s in Turn Signal :  43317\n",
      "No. of -1s in Stability Control Status :  43317\n",
      "No. of <0s in Transition State :  43317\n",
      "No. of -1s in Headlamp :  43317\n",
      "No. of -1s in Headlamp :  43317\n",
      "No. of Speed at 1,000 :  43317\n",
      "No. of Yaw Rate at 1,000 :  43317\n",
      "No. of -1s in Headlamp :  0\n",
      "No. of -1s in Wiper :  0\n",
      "No. of -1s in Turn Signal :  0\n",
      "No. of -1s in Stability Control Status :  0\n",
      "No. of <0s in Transition State :  0\n",
      "No. of -1s in Headlamp :  0\n",
      "No. of -1s in Headlamp :  0\n",
      "No. of Speed at 1,000 :  0\n",
      "No. of Yaw Rate at 1,000 :  0\n"
     ]
    }
   ],
   "source": [
    "%run dataframe.ipynb"
   ]
  },
  {
   "cell_type": "code",
   "execution_count": 2,
   "metadata": {},
   "outputs": [],
   "source": [
    "import pandas as pd\n",
    "import numpy as np\n",
    "import matplotlib.pyplot as plt\n",
    "import seaborn as sns\n",
    "import sklearn as skl\n",
    "from sklearn.preprocessing import StandardScaler\n",
    "from sklearn.model_selection import train_test_split\n",
    "from sklearn.cluster import KMeans\n",
    "from sklearn.metrics import silhouette_score"
   ]
  },
  {
   "cell_type": "code",
   "execution_count": 3,
   "metadata": {},
   "outputs": [],
   "source": [
    "df_host_subset = df_host.sample(n=1000000)"
   ]
  },
  {
   "cell_type": "code",
   "execution_count": 4,
   "metadata": {},
   "outputs": [
    {
     "data": {
      "text/html": [
       "<div>\n",
       "<style scoped>\n",
       "    .dataframe tbody tr th:only-of-type {\n",
       "        vertical-align: middle;\n",
       "    }\n",
       "\n",
       "    .dataframe tbody tr th {\n",
       "        vertical-align: top;\n",
       "    }\n",
       "\n",
       "    .dataframe thead th {\n",
       "        text-align: right;\n",
       "    }\n",
       "</style>\n",
       "<table border=\"1\" class=\"dataframe\">\n",
       "  <thead>\n",
       "    <tr style=\"text-align: right;\">\n",
       "      <th></th>\n",
       "      <th>0</th>\n",
       "      <th>1</th>\n",
       "      <th>2</th>\n",
       "      <th>3</th>\n",
       "      <th>4</th>\n",
       "      <th>5</th>\n",
       "      <th>6</th>\n",
       "      <th>7</th>\n",
       "      <th>8</th>\n",
       "      <th>9</th>\n",
       "    </tr>\n",
       "  </thead>\n",
       "  <tbody>\n",
       "    <tr>\n",
       "      <th>0</th>\n",
       "      <td>-0.420384</td>\n",
       "      <td>0.724378</td>\n",
       "      <td>-0.307376</td>\n",
       "      <td>-0.478049</td>\n",
       "      <td>0.0</td>\n",
       "      <td>-0.003162</td>\n",
       "      <td>0.260462</td>\n",
       "      <td>-0.257046</td>\n",
       "      <td>-0.378373</td>\n",
       "      <td>-0.082955</td>\n",
       "    </tr>\n",
       "    <tr>\n",
       "      <th>1</th>\n",
       "      <td>-0.420384</td>\n",
       "      <td>0.552766</td>\n",
       "      <td>-0.307376</td>\n",
       "      <td>0.990620</td>\n",
       "      <td>0.0</td>\n",
       "      <td>-0.003162</td>\n",
       "      <td>0.260462</td>\n",
       "      <td>-0.257046</td>\n",
       "      <td>-0.378373</td>\n",
       "      <td>-0.221824</td>\n",
       "    </tr>\n",
       "    <tr>\n",
       "      <th>2</th>\n",
       "      <td>-0.420384</td>\n",
       "      <td>0.888949</td>\n",
       "      <td>-0.307376</td>\n",
       "      <td>0.855411</td>\n",
       "      <td>0.0</td>\n",
       "      <td>-0.003162</td>\n",
       "      <td>0.260462</td>\n",
       "      <td>-0.257046</td>\n",
       "      <td>-0.378373</td>\n",
       "      <td>-0.013521</td>\n",
       "    </tr>\n",
       "    <tr>\n",
       "      <th>3</th>\n",
       "      <td>-0.420384</td>\n",
       "      <td>-0.593074</td>\n",
       "      <td>3.123846</td>\n",
       "      <td>0.398737</td>\n",
       "      <td>0.0</td>\n",
       "      <td>-0.003162</td>\n",
       "      <td>0.260462</td>\n",
       "      <td>-0.257046</td>\n",
       "      <td>-0.378373</td>\n",
       "      <td>0.125348</td>\n",
       "    </tr>\n",
       "    <tr>\n",
       "      <th>4</th>\n",
       "      <td>-0.420384</td>\n",
       "      <td>-1.039265</td>\n",
       "      <td>-0.307376</td>\n",
       "      <td>-1.185135</td>\n",
       "      <td>0.0</td>\n",
       "      <td>-0.003162</td>\n",
       "      <td>0.260462</td>\n",
       "      <td>2.371554</td>\n",
       "      <td>-0.378373</td>\n",
       "      <td>-2.027116</td>\n",
       "    </tr>\n",
       "  </tbody>\n",
       "</table>\n",
       "</div>"
      ],
      "text/plain": [
       "          0         1         2         3    4         5         6         7  \\\n",
       "0 -0.420384  0.724378 -0.307376 -0.478049  0.0 -0.003162  0.260462 -0.257046   \n",
       "1 -0.420384  0.552766 -0.307376  0.990620  0.0 -0.003162  0.260462 -0.257046   \n",
       "2 -0.420384  0.888949 -0.307376  0.855411  0.0 -0.003162  0.260462 -0.257046   \n",
       "3 -0.420384 -0.593074  3.123846  0.398737  0.0 -0.003162  0.260462 -0.257046   \n",
       "4 -0.420384 -1.039265 -0.307376 -1.185135  0.0 -0.003162  0.260462  2.371554   \n",
       "\n",
       "          8         9  \n",
       "0 -0.378373 -0.082955  \n",
       "1 -0.378373 -0.221824  \n",
       "2 -0.378373 -0.013521  \n",
       "3 -0.378373  0.125348  \n",
       "4 -0.378373 -2.027116  "
      ]
     },
     "execution_count": 4,
     "metadata": {},
     "output_type": "execute_result"
    }
   ],
   "source": [
    "# standardizing the data\n",
    "scaler = StandardScaler()\n",
    "df_host_subset_scaled = scaler.fit_transform(df_host_subset)\n",
    "\n",
    "# statistics of scaled data\n",
    "pd.DataFrame(df_host_subset_scaled).head()"
   ]
  },
  {
   "cell_type": "code",
   "execution_count": 5,
   "metadata": {},
   "outputs": [],
   "source": [
    "# fitting multiple k-means algorithms and storing the values in an empty list\n",
    "SSE = []\n",
    "silhouette_coefficients = []\n",
    "for cluster in range(2,15):\n",
    "    kmeans = KMeans(n_clusters = cluster, init='k-means++')\n",
    "    kmeans.fit(df_host_subset_scaled)\n",
    "    SSE.append(kmeans.inertia_)"
   ]
  },
  {
   "cell_type": "code",
   "execution_count": 6,
   "metadata": {},
   "outputs": [
    {
     "data": {
      "text/plain": [
       "Text(0, 0.5, 'Inertia')"
      ]
     },
     "execution_count": 6,
     "metadata": {},
     "output_type": "execute_result"
    },
    {
     "data": {
      "image/png": "[encoded data removed]",
      "text/plain": [
       "<Figure size 864x432 with 1 Axes>"
      ]
     },
     "metadata": {
      "needs_background": "light"
     },
     "output_type": "display_data"
    }
   ],
   "source": [
    "# converting the results into a dataframe and plotting them\n",
    "frame = pd.DataFrame({'Cluster':range(2,15), 'SSE':SSE})\n",
    "plt.figure(figsize=(12,6))\n",
    "plt.plot(frame['Cluster'], frame['SSE'], marker='o', color=\"salmon\")\n",
    "plt.xlabel('Number of clusters')\n",
    "plt.ylabel('Inertia')"
   ]
  },
  {
   "cell_type": "code",
   "execution_count": 7,
   "metadata": {},
   "outputs": [],
   "source": [
    "# silhouette_coefficients = []\n",
    "# for cluster in range(2,15):\n",
    "#     kmeans = KMeans(n_clusters = cluster, init='k-means++')\n",
    "#     kmeans.fit(df_host_subset_scaled)\n",
    "#     cluster_labels = kmeans.fit_predict(df_host_subset_scaled)\n",
    "#     score = silhouette_score(df_host_subset_scaled, cluster_labels)\n",
    "#     silhouette_coefficients.append(score)"
   ]
  },
  {
   "cell_type": "code",
   "execution_count": 8,
   "metadata": {},
   "outputs": [],
   "source": [
    "# # converting the results into a dataframe and plotting them\n",
    "# frame2 = pd.DataFrame({'Cluster':range(2,15), 'Silhouette Score':silhouette_coefficients})\n",
    "# plt.figure(figsize=(12,6))\n",
    "# plt.plot(frame2['Cluster'], frame2['Silhouette Score'], marker='o', color=\"salmon\")\n",
    "# plt.xlabel('Number of clusters')\n",
    "# plt.ylabel('Silhouette Score')"
   ]
  },
  {
   "cell_type": "code",
   "execution_count": 9,
   "metadata": {},
   "outputs": [
    {
     "data": {
      "text/plain": [
       "KMeans(n_clusters=5)"
      ]
     },
     "execution_count": 9,
     "metadata": {},
     "output_type": "execute_result"
    }
   ],
   "source": [
    "# defining the kmeans function with initialization as k-means++\n",
    "kmeans = KMeans(n_clusters=5, init='k-means++')\n",
    "\n",
    "# fitting the k means algorithm on scaled data\n",
    "kmeans.fit(df_host_subset_scaled)"
   ]
  },
  {
   "cell_type": "code",
   "execution_count": 11,
   "metadata": {},
   "outputs": [
    {
     "data": {
      "text/html": [
       "<div>\n",
       "<style scoped>\n",
       "    .dataframe tbody tr th:only-of-type {\n",
       "        vertical-align: middle;\n",
       "    }\n",
       "\n",
       "    .dataframe tbody tr th {\n",
       "        vertical-align: top;\n",
       "    }\n",
       "\n",
       "    .dataframe thead th {\n",
       "        text-align: right;\n",
       "    }\n",
       "</style>\n",
       "<table border=\"1\" class=\"dataframe\">\n",
       "  <thead>\n",
       "    <tr style=\"text-align: right;\">\n",
       "      <th></th>\n",
       "      <th>brakestatus</th>\n",
       "      <th>device</th>\n",
       "      <th>headlamp</th>\n",
       "      <th>speed</th>\n",
       "      <th>stabilitycontrolstatus</th>\n",
       "      <th>traccontrolstatus</th>\n",
       "      <th>transstate</th>\n",
       "      <th>turnsignal</th>\n",
       "      <th>wiper</th>\n",
       "      <th>yawrate</th>\n",
       "      <th>Predicted Cluster</th>\n",
       "    </tr>\n",
       "  </thead>\n",
       "  <tbody>\n",
       "    <tr>\n",
       "      <th>3296208</th>\n",
       "      <td>0</td>\n",
       "      <td>102629</td>\n",
       "      <td>0</td>\n",
       "      <td>14.441666</td>\n",
       "      <td>0</td>\n",
       "      <td>0</td>\n",
       "      <td>2</td>\n",
       "      <td>0</td>\n",
       "      <td>0</td>\n",
       "      <td>-0.244156</td>\n",
       "      <td>3</td>\n",
       "    </tr>\n",
       "    <tr>\n",
       "      <th>883606</th>\n",
       "      <td>0</td>\n",
       "      <td>102434</td>\n",
       "      <td>0</td>\n",
       "      <td>32.183334</td>\n",
       "      <td>0</td>\n",
       "      <td>0</td>\n",
       "      <td>2</td>\n",
       "      <td>0</td>\n",
       "      <td>0</td>\n",
       "      <td>-0.732437</td>\n",
       "      <td>3</td>\n",
       "    </tr>\n",
       "    <tr>\n",
       "      <th>3933072</th>\n",
       "      <td>0</td>\n",
       "      <td>102816</td>\n",
       "      <td>0</td>\n",
       "      <td>30.550000</td>\n",
       "      <td>0</td>\n",
       "      <td>0</td>\n",
       "      <td>2</td>\n",
       "      <td>0</td>\n",
       "      <td>0</td>\n",
       "      <td>-0.000015</td>\n",
       "      <td>3</td>\n",
       "    </tr>\n",
       "    <tr>\n",
       "      <th>673186</th>\n",
       "      <td>0</td>\n",
       "      <td>101132</td>\n",
       "      <td>2</td>\n",
       "      <td>25.033333</td>\n",
       "      <td>0</td>\n",
       "      <td>0</td>\n",
       "      <td>2</td>\n",
       "      <td>0</td>\n",
       "      <td>0</td>\n",
       "      <td>0.488266</td>\n",
       "      <td>3</td>\n",
       "    </tr>\n",
       "    <tr>\n",
       "      <th>2041270</th>\n",
       "      <td>0</td>\n",
       "      <td>100625</td>\n",
       "      <td>0</td>\n",
       "      <td>5.900000</td>\n",
       "      <td>0</td>\n",
       "      <td>0</td>\n",
       "      <td>2</td>\n",
       "      <td>1</td>\n",
       "      <td>0</td>\n",
       "      <td>-7.080093</td>\n",
       "      <td>1</td>\n",
       "    </tr>\n",
       "  </tbody>\n",
       "</table>\n",
       "</div>"
      ],
      "text/plain": [
       "         brakestatus  device  headlamp      speed  stabilitycontrolstatus  \\\n",
       "3296208            0  102629         0  14.441666                       0   \n",
       "883606             0  102434         0  32.183334                       0   \n",
       "3933072            0  102816         0  30.550000                       0   \n",
       "673186             0  101132         2  25.033333                       0   \n",
       "2041270            0  100625         0   5.900000                       0   \n",
       "\n",
       "         traccontrolstatus  transstate  turnsignal  wiper   yawrate  \\\n",
       "3296208                  0           2           0      0 -0.244156   \n",
       "883606                   0           2           0      0 -0.732437   \n",
       "3933072                  0           2           0      0 -0.000015   \n",
       "673186                   0           2           0      0  0.488266   \n",
       "2041270                  0           2           1      0 -7.080093   \n",
       "\n",
       "         Predicted Cluster  \n",
       "3296208                  3  \n",
       "883606                   3  \n",
       "3933072                  3  \n",
       "673186                   3  \n",
       "2041270                  1  "
      ]
     },
     "execution_count": 11,
     "metadata": {},
     "output_type": "execute_result"
    }
   ],
   "source": [
    "predict = kmeans.predict(df_host_subset_scaled)\n",
    "df_host_subset['Predicted Cluster'] = pd.Series(predict, index=df_host_subset.index)\n"
   ]
  },
  {
   "cell_type": "code",
   "execution_count": 12,
   "metadata": {},
   "outputs": [],
   "source": [
    "df_host_subset.to_csv('kmeans_df_host_subset_with_clusters.csv')"
   ]
  }
 ],
 "metadata": {
  "interpreter": {
   "hash": "b63c0f6618d7d0056e948ec4a7ecb721abc665b27ed524c57a909a57a756e9f9"
  },
  "kernelspec": {
   "display_name": "Python 3.10.0 64-bit",
   "language": "python",
   "name": "python3"
  },
  "language_info": {
   "codemirror_mode": {
    "name": "ipython",
    "version": 3
   },
   "file_extension": ".py",
   "mimetype": "text/x-python",
   "name": "python",
   "nbconvert_exporter": "python",
   "pygments_lexer": "ipython3",
   "version": "3.10.0"
  },
  "orig_nbformat": 4
 },
 "nbformat": 4,
 "nbformat_minor": 2
}
