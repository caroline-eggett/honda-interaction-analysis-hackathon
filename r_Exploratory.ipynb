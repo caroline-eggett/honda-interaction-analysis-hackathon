{
 "cells": [
  {
   "cell_type": "code",
   "execution_count": 17,
   "metadata": {},
   "outputs": [
    {
     "name": "stdout",
     "output_type": "stream",
     "text": [
      "Host Shape: rows: 4816389 and columns: 29\n",
      "Summary Shape: rows: 2611 and columns: 33\n",
      "EvtWarn Shape: rows: 39992 and columns: 36\n",
      "RvBsm Shape: rows: 148040 and columns: 18\n",
      "Spat Shape: rows: 19389 and columns: 11\n",
      "Headlamp: {0, 2, 3, -1}\n",
      "Wiper: {0, 1, 2, 3, -1}\n",
      "Turn Signal: {0, 1, 2, -1}\n",
      "Stability Control Status: {0, -1}\n",
      "Transition State: {0, 1, 2, 3, -1}\n",
      "Traction Control Status: {0, 1, -2, -7, -6, -4, -3, -1}\n",
      "Brake Status: {0, 1, -1}\n",
      "Speed: 1000.0\n",
      "Yaw Rate: 1000.0\n",
      "No. of -1s in Headlamp :  43317\n",
      "No. of -1s in Wiper :  43317\n",
      "No. of -1s in Turn Signal :  43317\n",
      "No. of -1s in Stability Control Status :  43317\n",
      "No. of <0s in Transition State :  43317\n",
      "No. of -1s in Headlamp :  43317\n",
      "No. of -1s in Headlamp :  43317\n",
      "No. of Speed at 1,000 :  43317\n",
      "No. of Yaw Rate at 1,000 :  43317\n",
      "No. of -1s in Headlamp :  0\n",
      "No. of -1s in Wiper :  0\n",
      "No. of -1s in Turn Signal :  0\n",
      "No. of -1s in Stability Control Status :  0\n",
      "No. of <0s in Transition State :  0\n",
      "No. of -1s in Headlamp :  0\n",
      "No. of -1s in Headlamp :  0\n",
      "No. of Speed at 1,000 :  0\n",
      "No. of Yaw Rate at 1,000 :  0\n"
     ]
    }
   ],
   "source": [
    "%run dataframe.ipynb"
   ]
  },
  {
   "cell_type": "code",
   "execution_count": null,
   "metadata": {},
   "outputs": [],
   "source": [
    "#Loading Packages\n",
    "import numpy as np\n",
    "import pandas as pd\n",
    "import matplotlib.pyplot as plt\n",
    "import seaborn as sns\n",
    "import plotly.express as px"
   ]
  },
  {
   "cell_type": "code",
   "execution_count": 43,
   "metadata": {},
   "outputs": [
    {
     "data": {
      "text/html": [
       "<div>\n",
       "<style scoped>\n",
       "    .dataframe tbody tr th:only-of-type {\n",
       "        vertical-align: middle;\n",
       "    }\n",
       "\n",
       "    .dataframe tbody tr th {\n",
       "        vertical-align: top;\n",
       "    }\n",
       "\n",
       "    .dataframe thead th {\n",
       "        text-align: right;\n",
       "    }\n",
       "</style>\n",
       "<table border=\"1\" class=\"dataframe\">\n",
       "  <thead>\n",
       "    <tr style=\"text-align: right;\">\n",
       "      <th></th>\n",
       "      <th>device</th>\n",
       "      <th>endlatitude</th>\n",
       "      <th>endlocaltime</th>\n",
       "      <th>endlongitude</th>\n",
       "      <th>startlatitude</th>\n",
       "      <th>startlocaltime</th>\n",
       "      <th>startlongitude</th>\n",
       "      <th>numnormalbsmrx</th>\n",
       "      <th>numinforms</th>\n",
       "      <th>numshadowbsmrx</th>\n",
       "      <th>numspatrx</th>\n",
       "      <th>numintersectionencounters</th>\n",
       "    </tr>\n",
       "  </thead>\n",
       "  <tbody>\n",
       "    <tr>\n",
       "      <th>0</th>\n",
       "      <td>101228</td>\n",
       "      <td>40.267269</td>\n",
       "      <td>80818385</td>\n",
       "      <td>-83.374784</td>\n",
       "      <td>40.240366</td>\n",
       "      <td>79879795</td>\n",
       "      <td>-83.390092</td>\n",
       "      <td>639</td>\n",
       "      <td>0</td>\n",
       "      <td>0</td>\n",
       "      <td>17269</td>\n",
       "      <td>10</td>\n",
       "    </tr>\n",
       "    <tr>\n",
       "      <th>1</th>\n",
       "      <td>103540</td>\n",
       "      <td>40.295117</td>\n",
       "      <td>45760525</td>\n",
       "      <td>-83.506669</td>\n",
       "      <td>40.188876</td>\n",
       "      <td>42917865</td>\n",
       "      <td>-82.757246</td>\n",
       "      <td>0</td>\n",
       "      <td>0</td>\n",
       "      <td>0</td>\n",
       "      <td>2471</td>\n",
       "      <td>1</td>\n",
       "    </tr>\n",
       "    <tr>\n",
       "      <th>2</th>\n",
       "      <td>100943</td>\n",
       "      <td>40.071973</td>\n",
       "      <td>7484165</td>\n",
       "      <td>-83.149719</td>\n",
       "      <td>39.985660</td>\n",
       "      <td>6417559</td>\n",
       "      <td>-83.024296</td>\n",
       "      <td>0</td>\n",
       "      <td>0</td>\n",
       "      <td>0</td>\n",
       "      <td>0</td>\n",
       "      <td>0</td>\n",
       "    </tr>\n",
       "    <tr>\n",
       "      <th>3</th>\n",
       "      <td>101795</td>\n",
       "      <td>40.099162</td>\n",
       "      <td>64137345</td>\n",
       "      <td>-83.120776</td>\n",
       "      <td>40.255500</td>\n",
       "      <td>63039737</td>\n",
       "      <td>-83.206426</td>\n",
       "      <td>0</td>\n",
       "      <td>0</td>\n",
       "      <td>0</td>\n",
       "      <td>4691</td>\n",
       "      <td>0</td>\n",
       "    </tr>\n",
       "    <tr>\n",
       "      <th>4</th>\n",
       "      <td>102645</td>\n",
       "      <td>40.277439</td>\n",
       "      <td>60135401</td>\n",
       "      <td>-83.511232</td>\n",
       "      <td>40.276127</td>\n",
       "      <td>59969581</td>\n",
       "      <td>-83.507510</td>\n",
       "      <td>0</td>\n",
       "      <td>0</td>\n",
       "      <td>0</td>\n",
       "      <td>0</td>\n",
       "      <td>0</td>\n",
       "    </tr>\n",
       "  </tbody>\n",
       "</table>\n",
       "</div>"
      ],
      "text/plain": [
       "   device  endlatitude  endlocaltime  endlongitude  startlatitude  \\\n",
       "0  101228    40.267269      80818385    -83.374784      40.240366   \n",
       "1  103540    40.295117      45760525    -83.506669      40.188876   \n",
       "2  100943    40.071973       7484165    -83.149719      39.985660   \n",
       "3  101795    40.099162      64137345    -83.120776      40.255500   \n",
       "4  102645    40.277439      60135401    -83.511232      40.276127   \n",
       "\n",
       "   startlocaltime  startlongitude  numnormalbsmrx  numinforms  numshadowbsmrx  \\\n",
       "0        79879795      -83.390092             639           0               0   \n",
       "1        42917865      -82.757246               0           0               0   \n",
       "2         6417559      -83.024296               0           0               0   \n",
       "3        63039737      -83.206426               0           0               0   \n",
       "4        59969581      -83.507510               0           0               0   \n",
       "\n",
       "   numspatrx  numintersectionencounters  \n",
       "0      17269                         10  \n",
       "1       2471                          1  \n",
       "2          0                          0  \n",
       "3       4691                          0  \n",
       "4          0                          0  "
      ]
     },
     "execution_count": 43,
     "metadata": {},
     "output_type": "execute_result"
    }
   ],
   "source": [
    "df_summary.columns\n",
    "df_summary.head()"
   ]
  },
  {
   "cell_type": "code",
   "execution_count": null,
   "metadata": {},
   "outputs": [],
   "source": [
    "#Num Normal BSMRX\n",
    "\n",
    "#Removing large value from the column numnormalbsmrx\n",
    "# df_summary = df_summary.drop(df_summary[['numnormalbsmrx'] == '368421108'], inplace = True)\n",
    "# df_summary.head()\n",
    "\n",
    "# df_summary[\"numnormalbsmrx\"].max()\n",
    "\n",
    "#plt.figure(figsize=(8,4))\n",
    "#sns.countplot(x=\"numnormalbsmrx\",data=df_summary, color=\"salmon\")\n",
    "#plt.show()\n",
    "\n",
    "\n",
    "#df_summary['numnormalbsmrx']\n",
    "#plt.hist(x = df_summary[\"numnormalbsmrx\"], bins = 20)\n",
    "#plt.xlim(xmin=0, xmax = 2600)\n",
    "#plt.ylim(ymin = 0, ymax = 20000)\n",
    "\n",
    "#numnormalbsmrx = sns.countplot(x=\"numnormalbsmrx\",data=df_summary)\n",
    "#numnormalbsmrx.set_xlabel(\"num normal bsmrx\")\n",
    "#numnormalbsmrx.xaxis(0,10)\n",
    "#sns.scatterplot(data=df_summary['numnormalbsmrx'], x=\"numnormalbsmrx\")\n",
    "\n",
    "#df_clean = df_summary.groupby([\"numnormalbsmrx\"]).count().reset_index()\n",
    "#df_count = df_summary.groupby(['numnormalbsmrx']).count().rename(\"Count\")\n",
    "\n",
    "#sns.scatterplot(x = 'numnormalbsmrx', y = 'Count', data = df_count)\n",
    "\n",
    "\n",
    "#sns.catplot(x=\"numnormalbsmrx\", kind=\"count\", palette=\"ch:.25\", data=df_summary)\n",
    "#sns.histplot(data = df_summary, x = 'numnormalbsmrx', binwidth = 10)\n",
    "#df_summary['numnormalbsmrx'].hist()\n"
   ]
  },
  {
   "cell_type": "code",
   "execution_count": 102,
   "metadata": {},
   "outputs": [
    {
     "name": "stdout",
     "output_type": "stream",
     "text": [
      "185.0\n"
     ]
    },
    {
     "data": {
      "text/plain": [
       "Text(0.5, 0, 'Number of Recieved Signals from Remote Vehicles')"
      ]
     },
     "execution_count": 102,
     "metadata": {},
     "output_type": "execute_result"
    },
    {
     "data": {
      "image/png": "[encoded data removed]",
      "text/plain": [
       "<Figure size 432x288 with 1 Axes>"
      ]
     },
     "metadata": {
      "needs_background": "light"
     },
     "output_type": "display_data"
    }
   ],
   "source": [
    "#Num Normal BSMRX\n",
    "import seaborn as sns\n",
    "df_summary_subset = df_summary[df_summary['numnormalbsmrx'] != 0]\n",
    "df_summary_subset.head()\n",
    "median = df_summary_subset['numnormalbsmrx'].median()\n",
    "print(median)\n",
    "numnormalbsmrx = sns.histplot(x='numnormalbsmrx', data=df_summary_subset, bins=50, binrange=(0, 1000), color = \"salmon\").set(title = \"numnormalbsmrx\")\n",
    "plt.xlabel(\"Number of Recieved Signals from Remote Vehicles\")"
   ]
  },
  {
   "cell_type": "code",
   "execution_count": 103,
   "metadata": {},
   "outputs": [
    {
     "name": "stdout",
     "output_type": "stream",
     "text": [
      "9.5\n"
     ]
    },
    {
     "data": {
      "text/plain": [
       "Text(0.5, 0, 'Count of Informed Warnings')"
      ]
     },
     "execution_count": 103,
     "metadata": {},
     "output_type": "execute_result"
    },
    {
     "data": {
      "image/png": "[encoded data removed]",
      "text/plain": [
       "<Figure size 432x288 with 1 Axes>"
      ]
     },
     "metadata": {
      "needs_background": "light"
     },
     "output_type": "display_data"
    }
   ],
   "source": [
    "#Num Informs\n",
    "df_summary_subset = df_summary[df_summary['numinforms'] != 0]\n",
    "df_summary_subset.head()\n",
    "median = df_summary_subset['numinforms'].median()\n",
    "print(median)\n",
    "numinforms = sns.histplot(x='numinforms', data=df_summary_subset, bins=50, binrange=(0, 150), color = \"salmon\").set(title = \"numinforms\")\n",
    "plt.xlabel(\"Count of Informed Warnings\")"
   ]
  },
  {
   "cell_type": "code",
   "execution_count": 84,
   "metadata": {},
   "outputs": [],
   "source": [
    "#numshadowbsmrx -- all values are zero, a plot is not needed (binary variable)\n",
    "#plt.hist(x = df_summary[\"numshadowbsmrx\"], bins = 50, binrange= (0,1))\n",
    "\n",
    "#Note: all values are 0 in num shadow bsmrx"
   ]
  },
  {
   "cell_type": "code",
   "execution_count": 104,
   "metadata": {},
   "outputs": [
    {
     "name": "stdout",
     "output_type": "stream",
     "text": [
      "2081.0\n"
     ]
    },
    {
     "data": {
      "text/plain": [
       "Text(0.5, 0, 'Number of Received Signals for Intersetions Passed for all Vehicles')"
      ]
     },
     "execution_count": 104,
     "metadata": {},
     "output_type": "execute_result"
    },
    {
     "data": {
      "image/png": "[encoded data removed]",
      "text/plain": [
       "<Figure size 432x288 with 1 Axes>"
      ]
     },
     "metadata": {
      "needs_background": "light"
     },
     "output_type": "display_data"
    }
   ],
   "source": [
    "#Num Spat Rx\n",
    "#Removing negative value from the column numnormalbsmrx using a subset\n",
    "df_summary_subset = df_summary[df_summary['numspatrx']>= 0]\n",
    "df_summary_subset.head()\n",
    "median = df_summary_subset['numspatrx'].median()\n",
    "print(median)\n",
    "\n",
    "numinforms = sns.histplot(x='numspatrx', data=df_summary_subset, bins=50, binrange=(0, 35000), color = \"salmon\").set(title = \"numspatrx\")\n",
    "plt.xlabel(\"Number of Received Signals for Intersetions Passed for all Vehicles\")"
   ]
  },
  {
   "cell_type": "code",
   "execution_count": 105,
   "metadata": {},
   "outputs": [
    {
     "data": {
      "text/plain": [
       "Text(0.5, 0, 'Number of Received Signals for Intersections Passed for Host')"
      ]
     },
     "execution_count": 105,
     "metadata": {},
     "output_type": "execute_result"
    },
    {
     "data": {
      "image/png": "[encoded data removed]",
      "text/plain": [
       "<Figure size 432x288 with 1 Axes>"
      ]
     },
     "metadata": {
      "needs_background": "light"
     },
     "output_type": "display_data"
    }
   ],
   "source": [
    "#numintersectionencounters\n",
    "# df_summary_subset = df_summary[df_summary['numintersectionencounters']>= 0]\n",
    "# df_summary_subset.head()\n",
    "# median = df_summary_subset['numintersectionencounters'].median()\n",
    "# print(median)\n",
    "\n",
    "numintersectionencounters = sns.histplot(x='numintersectionencounters', data=df_summary_subset, bins=10, binrange=(0, 15), color = \"salmon\").set(title = \"numintersectionencounters\")\n",
    "plt.xlabel(\"Number of Received Signals for Intersections Passed for Host\")\n"
   ]
  },
  {
   "cell_type": "code",
   "execution_count": 107,
   "metadata": {},
   "outputs": [
    {
     "ename": "ValueError",
     "evalue": "Could not interpret value `Total Time` for parameter `x`",
     "output_type": "error",
     "traceback": [
      "\u001b[1;31m---------------------------------------------------------------------------\u001b[0m",
      "\u001b[1;31mValueError\u001b[0m                                Traceback (most recent call last)",
      "\u001b[1;32mc:\\Users\\rsoh2\\OneDrive\\Pictures\\Documents\\BDAA\\Honda Hackathon\\r_Exploratory.ipynb Cell 10'\u001b[0m in \u001b[0;36m<module>\u001b[1;34m\u001b[0m\n\u001b[0;32m      <a href='vscode-notebook-cell:/c%3A/Users/rsoh2/OneDrive/Pictures/Documents/BDAA/Honda%20Hackathon/r_Exploratory.ipynb#ch0000011?line=0'>1</a>\u001b[0m \u001b[39m# Trip Endpoints\u001b[39;00m\n\u001b[0;32m      <a href='vscode-notebook-cell:/c%3A/Users/rsoh2/OneDrive/Pictures/Documents/BDAA/Honda%20Hackathon/r_Exploratory.ipynb#ch0000011?line=1'>2</a>\u001b[0m \u001b[39m#Difference b|t StartLocalTime and EndLocalTime\u001b[39;00m\n\u001b[0;32m      <a href='vscode-notebook-cell:/c%3A/Users/rsoh2/OneDrive/Pictures/Documents/BDAA/Honda%20Hackathon/r_Exploratory.ipynb#ch0000011?line=2'>3</a>\u001b[0m \u001b[39m# time_difference = df_summary['startlocaltime'] - df_summary['endlocaltime']\u001b[39;00m\n\u001b[1;32m   (...)\u001b[0m\n\u001b[0;32m      <a href='vscode-notebook-cell:/c%3A/Users/rsoh2/OneDrive/Pictures/Documents/BDAA/Honda%20Hackathon/r_Exploratory.ipynb#ch0000011?line=8'>9</a>\u001b[0m \u001b[39m# median = df_summary_subset['numintersectionencounters'].median()\u001b[39;00m\n\u001b[0;32m     <a href='vscode-notebook-cell:/c%3A/Users/rsoh2/OneDrive/Pictures/Documents/BDAA/Honda%20Hackathon/r_Exploratory.ipynb#ch0000011?line=9'>10</a>\u001b[0m \u001b[39m# print(median)\u001b[39;00m\n\u001b[1;32m---> <a href='vscode-notebook-cell:/c%3A/Users/rsoh2/OneDrive/Pictures/Documents/BDAA/Honda%20Hackathon/r_Exploratory.ipynb#ch0000011?line=11'>12</a>\u001b[0m total_time \u001b[39m=\u001b[39m sns\u001b[39m.\u001b[39;49mhistplot(x\u001b[39m=\u001b[39;49m\u001b[39m'\u001b[39;49m\u001b[39mTotal Time\u001b[39;49m\u001b[39m'\u001b[39;49m, data\u001b[39m=\u001b[39;49mdf_summary, color \u001b[39m=\u001b[39;49m \u001b[39m\"\u001b[39;49m\u001b[39msalmon\u001b[39;49m\u001b[39m\"\u001b[39;49m)\u001b[39m.\u001b[39mset(title \u001b[39m=\u001b[39m \u001b[39m\"\u001b[39m\u001b[39mTotal Time Taken in Seconds\u001b[39m\u001b[39m\"\u001b[39m)\n\u001b[0;32m     <a href='vscode-notebook-cell:/c%3A/Users/rsoh2/OneDrive/Pictures/Documents/BDAA/Honda%20Hackathon/r_Exploratory.ipynb#ch0000011?line=12'>13</a>\u001b[0m total_time\u001b[39m.\u001b[39mset_xlim(\u001b[39m0\u001b[39m, \u001b[39m10000000\u001b[39m)\n\u001b[0;32m     <a href='vscode-notebook-cell:/c%3A/Users/rsoh2/OneDrive/Pictures/Documents/BDAA/Honda%20Hackathon/r_Exploratory.ipynb#ch0000011?line=13'>14</a>\u001b[0m plt\u001b[39m.\u001b[39mxlabel(\u001b[39m\"\u001b[39m\u001b[39mDifference between  StartLocalTime and EndLocalTime\u001b[39m\u001b[39m\"\u001b[39m)\n",
      "File \u001b[1;32m~\\AppData\\Local\\Programs\\Python\\Python310\\lib\\site-packages\\seaborn\\distributions.py:1430\u001b[0m, in \u001b[0;36mhistplot\u001b[1;34m(data, x, y, hue, weights, stat, bins, binwidth, binrange, discrete, cumulative, common_bins, common_norm, multiple, element, fill, shrink, kde, kde_kws, line_kws, thresh, pthresh, pmax, cbar, cbar_ax, cbar_kws, palette, hue_order, hue_norm, color, log_scale, legend, ax, **kwargs)\u001b[0m\n\u001b[0;32m   <a href='file:///~/AppData/Local/Programs/Python/Python310/lib/site-packages/seaborn/distributions.py?line=1408'>1409</a>\u001b[0m \u001b[39mdef\u001b[39;00m \u001b[39mhistplot\u001b[39m(\n\u001b[0;32m   <a href='file:///~/AppData/Local/Programs/Python/Python310/lib/site-packages/seaborn/distributions.py?line=1409'>1410</a>\u001b[0m     data\u001b[39m=\u001b[39m\u001b[39mNone\u001b[39;00m, \u001b[39m*\u001b[39m,\n\u001b[0;32m   <a href='file:///~/AppData/Local/Programs/Python/Python310/lib/site-packages/seaborn/distributions.py?line=1410'>1411</a>\u001b[0m     \u001b[39m# Vector variables\u001b[39;00m\n\u001b[1;32m   (...)\u001b[0m\n\u001b[0;32m   <a href='file:///~/AppData/Local/Programs/Python/Python310/lib/site-packages/seaborn/distributions.py?line=1426'>1427</a>\u001b[0m     \u001b[39m*\u001b[39m\u001b[39m*\u001b[39mkwargs,\n\u001b[0;32m   <a href='file:///~/AppData/Local/Programs/Python/Python310/lib/site-packages/seaborn/distributions.py?line=1427'>1428</a>\u001b[0m ):\n\u001b[1;32m-> <a href='file:///~/AppData/Local/Programs/Python/Python310/lib/site-packages/seaborn/distributions.py?line=1429'>1430</a>\u001b[0m     p \u001b[39m=\u001b[39m _DistributionPlotter(\n\u001b[0;32m   <a href='file:///~/AppData/Local/Programs/Python/Python310/lib/site-packages/seaborn/distributions.py?line=1430'>1431</a>\u001b[0m         data\u001b[39m=\u001b[39;49mdata,\n\u001b[0;32m   <a href='file:///~/AppData/Local/Programs/Python/Python310/lib/site-packages/seaborn/distributions.py?line=1431'>1432</a>\u001b[0m         variables\u001b[39m=\u001b[39;49m_DistributionPlotter\u001b[39m.\u001b[39;49mget_semantics(\u001b[39mlocals\u001b[39;49m())\n\u001b[0;32m   <a href='file:///~/AppData/Local/Programs/Python/Python310/lib/site-packages/seaborn/distributions.py?line=1432'>1433</a>\u001b[0m     )\n\u001b[0;32m   <a href='file:///~/AppData/Local/Programs/Python/Python310/lib/site-packages/seaborn/distributions.py?line=1434'>1435</a>\u001b[0m     p\u001b[39m.\u001b[39mmap_hue(palette\u001b[39m=\u001b[39mpalette, order\u001b[39m=\u001b[39mhue_order, norm\u001b[39m=\u001b[39mhue_norm)\n\u001b[0;32m   <a href='file:///~/AppData/Local/Programs/Python/Python310/lib/site-packages/seaborn/distributions.py?line=1436'>1437</a>\u001b[0m     \u001b[39mif\u001b[39;00m ax \u001b[39mis\u001b[39;00m \u001b[39mNone\u001b[39;00m:\n",
      "File \u001b[1;32m~\\AppData\\Local\\Programs\\Python\\Python310\\lib\\site-packages\\seaborn\\distributions.py:111\u001b[0m, in \u001b[0;36m_DistributionPlotter.__init__\u001b[1;34m(self, data, variables)\u001b[0m\n\u001b[0;32m    <a href='file:///~/AppData/Local/Programs/Python/Python310/lib/site-packages/seaborn/distributions.py?line=104'>105</a>\u001b[0m \u001b[39mdef\u001b[39;00m \u001b[39m__init__\u001b[39m(\n\u001b[0;32m    <a href='file:///~/AppData/Local/Programs/Python/Python310/lib/site-packages/seaborn/distributions.py?line=105'>106</a>\u001b[0m     \u001b[39mself\u001b[39m,\n\u001b[0;32m    <a href='file:///~/AppData/Local/Programs/Python/Python310/lib/site-packages/seaborn/distributions.py?line=106'>107</a>\u001b[0m     data\u001b[39m=\u001b[39m\u001b[39mNone\u001b[39;00m,\n\u001b[0;32m    <a href='file:///~/AppData/Local/Programs/Python/Python310/lib/site-packages/seaborn/distributions.py?line=107'>108</a>\u001b[0m     variables\u001b[39m=\u001b[39m{},\n\u001b[0;32m    <a href='file:///~/AppData/Local/Programs/Python/Python310/lib/site-packages/seaborn/distributions.py?line=108'>109</a>\u001b[0m ):\n\u001b[1;32m--> <a href='file:///~/AppData/Local/Programs/Python/Python310/lib/site-packages/seaborn/distributions.py?line=110'>111</a>\u001b[0m     \u001b[39msuper\u001b[39;49m()\u001b[39m.\u001b[39;49m\u001b[39m__init__\u001b[39;49m(data\u001b[39m=\u001b[39;49mdata, variables\u001b[39m=\u001b[39;49mvariables)\n",
      "File \u001b[1;32m~\\AppData\\Local\\Programs\\Python\\Python310\\lib\\site-packages\\seaborn\\_core.py:605\u001b[0m, in \u001b[0;36mVectorPlotter.__init__\u001b[1;34m(self, data, variables)\u001b[0m\n\u001b[0;32m    <a href='file:///~/AppData/Local/Programs/Python/Python310/lib/site-packages/seaborn/_core.py?line=602'>603</a>\u001b[0m \u001b[39mdef\u001b[39;00m \u001b[39m__init__\u001b[39m(\u001b[39mself\u001b[39m, data\u001b[39m=\u001b[39m\u001b[39mNone\u001b[39;00m, variables\u001b[39m=\u001b[39m{}):\n\u001b[1;32m--> <a href='file:///~/AppData/Local/Programs/Python/Python310/lib/site-packages/seaborn/_core.py?line=604'>605</a>\u001b[0m     \u001b[39mself\u001b[39;49m\u001b[39m.\u001b[39;49massign_variables(data, variables)\n\u001b[0;32m    <a href='file:///~/AppData/Local/Programs/Python/Python310/lib/site-packages/seaborn/_core.py?line=606'>607</a>\u001b[0m     \u001b[39mfor\u001b[39;00m var, \u001b[39mcls\u001b[39m \u001b[39min\u001b[39;00m \u001b[39mself\u001b[39m\u001b[39m.\u001b[39m_semantic_mappings\u001b[39m.\u001b[39mitems():\n\u001b[0;32m    <a href='file:///~/AppData/Local/Programs/Python/Python310/lib/site-packages/seaborn/_core.py?line=607'>608</a>\u001b[0m \n\u001b[0;32m    <a href='file:///~/AppData/Local/Programs/Python/Python310/lib/site-packages/seaborn/_core.py?line=608'>609</a>\u001b[0m         \u001b[39m# Create the mapping function\u001b[39;00m\n\u001b[0;32m    <a href='file:///~/AppData/Local/Programs/Python/Python310/lib/site-packages/seaborn/_core.py?line=609'>610</a>\u001b[0m         map_func \u001b[39m=\u001b[39m partial(\u001b[39mcls\u001b[39m\u001b[39m.\u001b[39mmap, plotter\u001b[39m=\u001b[39m\u001b[39mself\u001b[39m)\n",
      "File \u001b[1;32m~\\AppData\\Local\\Programs\\Python\\Python310\\lib\\site-packages\\seaborn\\_core.py:668\u001b[0m, in \u001b[0;36mVectorPlotter.assign_variables\u001b[1;34m(self, data, variables)\u001b[0m\n\u001b[0;32m    <a href='file:///~/AppData/Local/Programs/Python/Python310/lib/site-packages/seaborn/_core.py?line=665'>666</a>\u001b[0m \u001b[39melse\u001b[39;00m:\n\u001b[0;32m    <a href='file:///~/AppData/Local/Programs/Python/Python310/lib/site-packages/seaborn/_core.py?line=666'>667</a>\u001b[0m     \u001b[39mself\u001b[39m\u001b[39m.\u001b[39minput_format \u001b[39m=\u001b[39m \u001b[39m\"\u001b[39m\u001b[39mlong\u001b[39m\u001b[39m\"\u001b[39m\n\u001b[1;32m--> <a href='file:///~/AppData/Local/Programs/Python/Python310/lib/site-packages/seaborn/_core.py?line=667'>668</a>\u001b[0m     plot_data, variables \u001b[39m=\u001b[39m \u001b[39mself\u001b[39m\u001b[39m.\u001b[39m_assign_variables_longform(\n\u001b[0;32m    <a href='file:///~/AppData/Local/Programs/Python/Python310/lib/site-packages/seaborn/_core.py?line=668'>669</a>\u001b[0m         data, \u001b[39m*\u001b[39m\u001b[39m*\u001b[39mvariables,\n\u001b[0;32m    <a href='file:///~/AppData/Local/Programs/Python/Python310/lib/site-packages/seaborn/_core.py?line=669'>670</a>\u001b[0m     )\n\u001b[0;32m    <a href='file:///~/AppData/Local/Programs/Python/Python310/lib/site-packages/seaborn/_core.py?line=671'>672</a>\u001b[0m \u001b[39mself\u001b[39m\u001b[39m.\u001b[39mplot_data \u001b[39m=\u001b[39m plot_data\n\u001b[0;32m    <a href='file:///~/AppData/Local/Programs/Python/Python310/lib/site-packages/seaborn/_core.py?line=672'>673</a>\u001b[0m \u001b[39mself\u001b[39m\u001b[39m.\u001b[39mvariables \u001b[39m=\u001b[39m variables\n",
      "File \u001b[1;32m~\\AppData\\Local\\Programs\\Python\\Python310\\lib\\site-packages\\seaborn\\_core.py:903\u001b[0m, in \u001b[0;36mVectorPlotter._assign_variables_longform\u001b[1;34m(self, data, **kwargs)\u001b[0m\n\u001b[0;32m    <a href='file:///~/AppData/Local/Programs/Python/Python310/lib/site-packages/seaborn/_core.py?line=897'>898</a>\u001b[0m \u001b[39melif\u001b[39;00m \u001b[39misinstance\u001b[39m(val, (\u001b[39mstr\u001b[39m, \u001b[39mbytes\u001b[39m)):\n\u001b[0;32m    <a href='file:///~/AppData/Local/Programs/Python/Python310/lib/site-packages/seaborn/_core.py?line=898'>899</a>\u001b[0m \n\u001b[0;32m    <a href='file:///~/AppData/Local/Programs/Python/Python310/lib/site-packages/seaborn/_core.py?line=899'>900</a>\u001b[0m     \u001b[39m# This looks like a column name but we don't know what it means!\u001b[39;00m\n\u001b[0;32m    <a href='file:///~/AppData/Local/Programs/Python/Python310/lib/site-packages/seaborn/_core.py?line=901'>902</a>\u001b[0m     err \u001b[39m=\u001b[39m \u001b[39mf\u001b[39m\u001b[39m\"\u001b[39m\u001b[39mCould not interpret value `\u001b[39m\u001b[39m{\u001b[39;00mval\u001b[39m}\u001b[39;00m\u001b[39m` for parameter `\u001b[39m\u001b[39m{\u001b[39;00mkey\u001b[39m}\u001b[39;00m\u001b[39m`\u001b[39m\u001b[39m\"\u001b[39m\n\u001b[1;32m--> <a href='file:///~/AppData/Local/Programs/Python/Python310/lib/site-packages/seaborn/_core.py?line=902'>903</a>\u001b[0m     \u001b[39mraise\u001b[39;00m \u001b[39mValueError\u001b[39;00m(err)\n\u001b[0;32m    <a href='file:///~/AppData/Local/Programs/Python/Python310/lib/site-packages/seaborn/_core.py?line=904'>905</a>\u001b[0m \u001b[39melse\u001b[39;00m:\n\u001b[0;32m    <a href='file:///~/AppData/Local/Programs/Python/Python310/lib/site-packages/seaborn/_core.py?line=905'>906</a>\u001b[0m \n\u001b[0;32m    <a href='file:///~/AppData/Local/Programs/Python/Python310/lib/site-packages/seaborn/_core.py?line=906'>907</a>\u001b[0m     \u001b[39m# Otherwise, assume the value is itself data\u001b[39;00m\n\u001b[0;32m    <a href='file:///~/AppData/Local/Programs/Python/Python310/lib/site-packages/seaborn/_core.py?line=907'>908</a>\u001b[0m \n\u001b[0;32m    <a href='file:///~/AppData/Local/Programs/Python/Python310/lib/site-packages/seaborn/_core.py?line=908'>909</a>\u001b[0m     \u001b[39m# Raise when data object is present and a vector can't matched\u001b[39;00m\n\u001b[0;32m    <a href='file:///~/AppData/Local/Programs/Python/Python310/lib/site-packages/seaborn/_core.py?line=909'>910</a>\u001b[0m     \u001b[39mif\u001b[39;00m \u001b[39misinstance\u001b[39m(data, pd\u001b[39m.\u001b[39mDataFrame) \u001b[39mand\u001b[39;00m \u001b[39mnot\u001b[39;00m \u001b[39misinstance\u001b[39m(val, pd\u001b[39m.\u001b[39mSeries):\n",
      "\u001b[1;31mValueError\u001b[0m: Could not interpret value `Total Time` for parameter `x`"
     ]
    }
   ],
   "source": [
    "# Trip Endpoints\n",
    "#Difference b|t StartLocalTime and EndLocalTime\n",
    "# time_difference = df_summary['startlocaltime'] - df_summary['endlocaltime']\n",
    "# time_difference \n",
    "\n",
    "\n",
    "# df_summary_subset = df_summary[df_summary['numintersectionencounters']>= 0]\n",
    "# df_summary_subset.head()\n",
    "# median = df_summary_subset['numintersectionencounters'].median()\n",
    "# print(median)\n",
    "\n",
    "total_time = sns.histplot(x='Total Time', data=df_summary, color = \"salmon\").set(title = \"Total Time Taken in Seconds\")\n",
    "total_time.set_xlim(0, 10000000)\n",
    "plt.xlabel(\"Difference between  StartLocalTime and EndLocalTime\")\n",
    "\n",
    "#time_difference = sns.histplot(x='time_difference', data=df_summary, bins=10, binrange=(0, 15), color = \"salmon\").set(title = \"Difference between StartLocalTime and EndLocalTime\")\n",
    "#plt.xlabel(\"Number of Received Signals for Intersections Passed for Host\")\n"
   ]
  },
  {
   "cell_type": "markdown",
   "metadata": {},
   "source": []
  }
 ],
 "metadata": {
  "interpreter": {
   "hash": "9aa7dac1b64d313825acd1e7c8ecf4a4ea3f3ae883efeb0bb53a04f5adde4a6c"
  },
  "kernelspec": {
   "display_name": "Python 3.10.2 64-bit",
   "language": "python",
   "name": "python3"
  },
  "language_info": {
   "codemirror_mode": {
    "name": "ipython",
    "version": 3
   },
   "file_extension": ".py",
   "mimetype": "text/x-python",
   "name": "python",
   "nbconvert_exporter": "python",
   "pygments_lexer": "ipython3",
   "version": "3.10.2"
  },
  "orig_nbformat": 4
 },
 "nbformat": 4,
 "nbformat_minor": 2
}
